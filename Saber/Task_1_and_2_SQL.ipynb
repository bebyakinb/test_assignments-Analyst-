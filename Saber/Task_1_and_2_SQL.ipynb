{
  "nbformat": 4,
  "nbformat_minor": 0,
  "metadata": {
    "colab": {
      "provenance": [],
      "authorship_tag": "ABX9TyPRxzQ/C+DUR46j3d3dfUDV",
      "include_colab_link": true
    },
    "kernelspec": {
      "name": "python3",
      "display_name": "Python 3"
    },
    "language_info": {
      "name": "python"
    }
  },
  "cells": [
    {
      "cell_type": "markdown",
      "metadata": {
        "id": "view-in-github",
        "colab_type": "text"
      },
      "source": [
        "<a href=\"https://colab.research.google.com/github/bebyakinb/test_assignments_Analyst/blob/master/Saber/Task_1_and_2_SQL.ipynb\" target=\"_parent\"><img src=\"https://colab.research.google.com/assets/colab-badge.svg\" alt=\"Open In Colab\"/></a>"
      ]
    },
    {
      "cell_type": "markdown",
      "source": [
        "#0. Подготовка среды"
      ],
      "metadata": {
        "id": "RUmoXvvXoMaR"
      }
    },
    {
      "cell_type": "markdown",
      "source": [
        "##0.1. Загрузка актуальной версии SQLite3"
      ],
      "metadata": {
        "id": "h8dq8ksXolvH"
      }
    },
    {
      "cell_type": "code",
      "execution_count": 7,
      "metadata": {
        "id": "iz_bgm6nnpGg",
        "colab": {
          "base_uri": "https://localhost:8080/"
        },
        "outputId": "a404fcb9-c110-48e7-861c-76501324e801"
      },
      "outputs": [
        {
          "output_type": "stream",
          "name": "stdout",
          "text": [
            "/content/sqlite\n",
            "/content\n"
          ]
        }
      ],
      "source": [
        "!wget https://www.sqlite.org/src/tarball/sqlite.tar.gz?r=release -O sqlite.tar.gz &> /dev/null\n",
        "!tar xzf sqlite.tar.gz &> /dev/null\n",
        "%cd sqlite/\n",
        "!./configure &> /dev/null\n",
        "!make sqlite3.c &> /dev/null\n",
        "%cd /content\n",
        "!npx degit coleifer/pysqlite3 -f &> /dev/null\n",
        "!cp sqlite/sqlite3.[ch] .\n",
        "!python setup.py build_static build &> /dev/null\n",
        "!cp build/lib.linux-x86_64-3.8/pysqlite3/_sqlite3.cpython-38-x86_64-linux-gnu.so \\\n",
        "    /usr/lib/python3.8/lib-dynload/_sqlite3.cpython-38-x86_64-linux-gnu.so"
      ]
    },
    {
      "cell_type": "markdown",
      "source": [
        "## 0.2. Загрузка БД для работы с заданиями"
      ],
      "metadata": {
        "id": "XcMq1jszpQxl"
      }
    },
    {
      "cell_type": "code",
      "source": [
        "!wget --no-check-certificate 'https://docs.google.com/uc?export=download&id=1t3LaSwQPqp8OdXKiAPdZZ1YmhaGxpDfj' -O test.db  &> /dev/null"
      ],
      "metadata": {
        "id": "R8MAGNuZoRKy"
      },
      "execution_count": null,
      "outputs": []
    },
    {
      "cell_type": "markdown",
      "source": [
        "## 0.3. Загрузка библиотек"
      ],
      "metadata": {
        "id": "empyKJTApj4F"
      }
    },
    {
      "cell_type": "code",
      "source": [
        "import sqlite3\n",
        "sqlite3.sqlite_version"
      ],
      "metadata": {
        "colab": {
          "base_uri": "https://localhost:8080/",
          "height": 35
        },
        "id": "q-k70udroY69",
        "outputId": "7e9dd8f4-add3-4782-950f-70672a774157"
      },
      "execution_count": 1,
      "outputs": [
        {
          "output_type": "execute_result",
          "data": {
            "text/plain": [
              "'3.40.1'"
            ],
            "application/vnd.google.colaboratory.intrinsic+json": {
              "type": "string"
            }
          },
          "metadata": {},
          "execution_count": 1
        }
      ]
    },
    {
      "cell_type": "code",
      "source": [
        "import pandas as pd\n",
        "import numpy as np\n",
        "import matplotlib.pyplot as plt"
      ],
      "metadata": {
        "id": "T8t142Udoa3c"
      },
      "execution_count": 2,
      "outputs": []
    },
    {
      "cell_type": "markdown",
      "source": [
        "##0.4. Подключение к БД"
      ],
      "metadata": {
        "id": "PY5mej41p1Di"
      }
    },
    {
      "cell_type": "code",
      "source": [
        "def select(sql):\n",
        "  return pd.read_sql(sql,con)"
      ],
      "metadata": {
        "id": "4MhnfV6CodIZ"
      },
      "execution_count": 3,
      "outputs": []
    },
    {
      "cell_type": "code",
      "source": [
        "con = sqlite3.connect('test.db')\n",
        "cur = con.cursor()"
      ],
      "metadata": {
        "id": "5vhgbkNrofoT"
      },
      "execution_count": 4,
      "outputs": []
    },
    {
      "cell_type": "code",
      "source": [
        "sql= \"\"\"\n",
        "select\n",
        "    name\n",
        "from\n",
        "    sqlite_schema\n",
        "where \n",
        "    type ='table' and \n",
        "    name not like 'sqlite_%';\n",
        "\"\"\"\n",
        "select(sql)\n",
        "\n"
      ],
      "metadata": {
        "colab": {
          "base_uri": "https://localhost:8080/",
          "height": 81
        },
        "id": "hRrvpvohohwX",
        "outputId": "7f556e6e-880e-43d7-c0c6-61866541b7f1"
      },
      "execution_count": 5,
      "outputs": [
        {
          "output_type": "execute_result",
          "data": {
            "text/plain": [
              "      name\n",
              "0  history"
            ],
            "text/html": [
              "\n",
              "  <div id=\"df-545ff29f-415d-4ffe-9767-8301f8cb2968\">\n",
              "    <div class=\"colab-df-container\">\n",
              "      <div>\n",
              "<style scoped>\n",
              "    .dataframe tbody tr th:only-of-type {\n",
              "        vertical-align: middle;\n",
              "    }\n",
              "\n",
              "    .dataframe tbody tr th {\n",
              "        vertical-align: top;\n",
              "    }\n",
              "\n",
              "    .dataframe thead th {\n",
              "        text-align: right;\n",
              "    }\n",
              "</style>\n",
              "<table border=\"1\" class=\"dataframe\">\n",
              "  <thead>\n",
              "    <tr style=\"text-align: right;\">\n",
              "      <th></th>\n",
              "      <th>name</th>\n",
              "    </tr>\n",
              "  </thead>\n",
              "  <tbody>\n",
              "    <tr>\n",
              "      <th>0</th>\n",
              "      <td>history</td>\n",
              "    </tr>\n",
              "  </tbody>\n",
              "</table>\n",
              "</div>\n",
              "      <button class=\"colab-df-convert\" onclick=\"convertToInteractive('df-545ff29f-415d-4ffe-9767-8301f8cb2968')\"\n",
              "              title=\"Convert this dataframe to an interactive table.\"\n",
              "              style=\"display:none;\">\n",
              "        \n",
              "  <svg xmlns=\"http://www.w3.org/2000/svg\" height=\"24px\"viewBox=\"0 0 24 24\"\n",
              "       width=\"24px\">\n",
              "    <path d=\"M0 0h24v24H0V0z\" fill=\"none\"/>\n",
              "    <path d=\"M18.56 5.44l.94 2.06.94-2.06 2.06-.94-2.06-.94-.94-2.06-.94 2.06-2.06.94zm-11 1L8.5 8.5l.94-2.06 2.06-.94-2.06-.94L8.5 2.5l-.94 2.06-2.06.94zm10 10l.94 2.06.94-2.06 2.06-.94-2.06-.94-.94-2.06-.94 2.06-2.06.94z\"/><path d=\"M17.41 7.96l-1.37-1.37c-.4-.4-.92-.59-1.43-.59-.52 0-1.04.2-1.43.59L10.3 9.45l-7.72 7.72c-.78.78-.78 2.05 0 2.83L4 21.41c.39.39.9.59 1.41.59.51 0 1.02-.2 1.41-.59l7.78-7.78 2.81-2.81c.8-.78.8-2.07 0-2.86zM5.41 20L4 18.59l7.72-7.72 1.47 1.35L5.41 20z\"/>\n",
              "  </svg>\n",
              "      </button>\n",
              "      \n",
              "  <style>\n",
              "    .colab-df-container {\n",
              "      display:flex;\n",
              "      flex-wrap:wrap;\n",
              "      gap: 12px;\n",
              "    }\n",
              "\n",
              "    .colab-df-convert {\n",
              "      background-color: #E8F0FE;\n",
              "      border: none;\n",
              "      border-radius: 50%;\n",
              "      cursor: pointer;\n",
              "      display: none;\n",
              "      fill: #1967D2;\n",
              "      height: 32px;\n",
              "      padding: 0 0 0 0;\n",
              "      width: 32px;\n",
              "    }\n",
              "\n",
              "    .colab-df-convert:hover {\n",
              "      background-color: #E2EBFA;\n",
              "      box-shadow: 0px 1px 2px rgba(60, 64, 67, 0.3), 0px 1px 3px 1px rgba(60, 64, 67, 0.15);\n",
              "      fill: #174EA6;\n",
              "    }\n",
              "\n",
              "    [theme=dark] .colab-df-convert {\n",
              "      background-color: #3B4455;\n",
              "      fill: #D2E3FC;\n",
              "    }\n",
              "\n",
              "    [theme=dark] .colab-df-convert:hover {\n",
              "      background-color: #434B5C;\n",
              "      box-shadow: 0px 1px 3px 1px rgba(0, 0, 0, 0.15);\n",
              "      filter: drop-shadow(0px 1px 2px rgba(0, 0, 0, 0.3));\n",
              "      fill: #FFFFFF;\n",
              "    }\n",
              "  </style>\n",
              "\n",
              "      <script>\n",
              "        const buttonEl =\n",
              "          document.querySelector('#df-545ff29f-415d-4ffe-9767-8301f8cb2968 button.colab-df-convert');\n",
              "        buttonEl.style.display =\n",
              "          google.colab.kernel.accessAllowed ? 'block' : 'none';\n",
              "\n",
              "        async function convertToInteractive(key) {\n",
              "          const element = document.querySelector('#df-545ff29f-415d-4ffe-9767-8301f8cb2968');\n",
              "          const dataTable =\n",
              "            await google.colab.kernel.invokeFunction('convertToInteractive',\n",
              "                                                     [key], {});\n",
              "          if (!dataTable) return;\n",
              "\n",
              "          const docLinkHtml = 'Like what you see? Visit the ' +\n",
              "            '<a target=\"_blank\" href=https://colab.research.google.com/notebooks/data_table.ipynb>data table notebook</a>'\n",
              "            + ' to learn more about interactive tables.';\n",
              "          element.innerHTML = '';\n",
              "          dataTable['output_type'] = 'display_data';\n",
              "          await google.colab.output.renderOutput(dataTable, element);\n",
              "          const docLink = document.createElement('div');\n",
              "          docLink.innerHTML = docLinkHtml;\n",
              "          element.appendChild(docLink);\n",
              "        }\n",
              "      </script>\n",
              "    </div>\n",
              "  </div>\n",
              "  "
            ]
          },
          "metadata": {},
          "execution_count": 5
        }
      ]
    },
    {
      "cell_type": "markdown",
      "source": [
        "# 1. Задача №1"
      ],
      "metadata": {
        "id": "unpkY8oIqLaW"
      }
    },
    {
      "cell_type": "markdown",
      "source": [
        "##1.0. Условия задачи"
      ],
      "metadata": {
        "id": "mLbazIgIqS_m"
      }
    },
    {
      "cell_type": "markdown",
      "source": [
        "Напишите запрос, который выведет, сколько времени в среднем задачи каждой группы находятся в статусе “Open”\n",
        "\n",
        "Условия:\n",
        "\n",
        "Под группой подразумевается первый символ в ключе задачи. Например, для ключа “C-40460” группой будет “C”\n",
        "\n",
        "Задача может переходить в один и тот же статус несколько раз.\n",
        "\n",
        "Переведите время в часы с округлением до двух знаков после запятой.\n"
      ],
      "metadata": {
        "id": "Z6fcJpw8qXlM"
      }
    },
    {
      "cell_type": "markdown",
      "source": [
        "## 1.1. Решение"
      ],
      "metadata": {
        "id": "DvfFfc9xcled"
      }
    },
    {
      "cell_type": "code",
      "source": [
        "sql = \"\"\"\n",
        "select\n",
        "    substr(issue_key, 1, 1) as working_group,\n",
        "    round(avg(avg_minutes)/60,2) as avg_hours\n",
        "from\n",
        "    (select \n",
        "        issue_key,\n",
        "        sum(minutes_in_status) as avg_minutes\n",
        "    from \n",
        "        history\n",
        "    where\n",
        "        status = 'Open'\n",
        "    group by\n",
        "        issue_key\n",
        "     )\n",
        "group by\n",
        "    working_group\n",
        "\"\"\"\n",
        "select(sql)"
      ],
      "metadata": {
        "colab": {
          "base_uri": "https://localhost:8080/",
          "height": 206
        },
        "id": "vzfUNohsr96K",
        "outputId": "fc117907-5af4-4380-fb78-dd69a7dfd0cd"
      },
      "execution_count": 6,
      "outputs": [
        {
          "output_type": "execute_result",
          "data": {
            "text/plain": [
              "  working_group  avg_hours\n",
              "0             A     247.90\n",
              "1             B     281.51\n",
              "2             C     595.62\n",
              "3             D     842.02\n",
              "4             E     817.94"
            ],
            "text/html": [
              "\n",
              "  <div id=\"df-a1819bec-d04d-4ef6-8b0f-9fe1010282d0\">\n",
              "    <div class=\"colab-df-container\">\n",
              "      <div>\n",
              "<style scoped>\n",
              "    .dataframe tbody tr th:only-of-type {\n",
              "        vertical-align: middle;\n",
              "    }\n",
              "\n",
              "    .dataframe tbody tr th {\n",
              "        vertical-align: top;\n",
              "    }\n",
              "\n",
              "    .dataframe thead th {\n",
              "        text-align: right;\n",
              "    }\n",
              "</style>\n",
              "<table border=\"1\" class=\"dataframe\">\n",
              "  <thead>\n",
              "    <tr style=\"text-align: right;\">\n",
              "      <th></th>\n",
              "      <th>working_group</th>\n",
              "      <th>avg_hours</th>\n",
              "    </tr>\n",
              "  </thead>\n",
              "  <tbody>\n",
              "    <tr>\n",
              "      <th>0</th>\n",
              "      <td>A</td>\n",
              "      <td>247.90</td>\n",
              "    </tr>\n",
              "    <tr>\n",
              "      <th>1</th>\n",
              "      <td>B</td>\n",
              "      <td>281.51</td>\n",
              "    </tr>\n",
              "    <tr>\n",
              "      <th>2</th>\n",
              "      <td>C</td>\n",
              "      <td>595.62</td>\n",
              "    </tr>\n",
              "    <tr>\n",
              "      <th>3</th>\n",
              "      <td>D</td>\n",
              "      <td>842.02</td>\n",
              "    </tr>\n",
              "    <tr>\n",
              "      <th>4</th>\n",
              "      <td>E</td>\n",
              "      <td>817.94</td>\n",
              "    </tr>\n",
              "  </tbody>\n",
              "</table>\n",
              "</div>\n",
              "      <button class=\"colab-df-convert\" onclick=\"convertToInteractive('df-a1819bec-d04d-4ef6-8b0f-9fe1010282d0')\"\n",
              "              title=\"Convert this dataframe to an interactive table.\"\n",
              "              style=\"display:none;\">\n",
              "        \n",
              "  <svg xmlns=\"http://www.w3.org/2000/svg\" height=\"24px\"viewBox=\"0 0 24 24\"\n",
              "       width=\"24px\">\n",
              "    <path d=\"M0 0h24v24H0V0z\" fill=\"none\"/>\n",
              "    <path d=\"M18.56 5.44l.94 2.06.94-2.06 2.06-.94-2.06-.94-.94-2.06-.94 2.06-2.06.94zm-11 1L8.5 8.5l.94-2.06 2.06-.94-2.06-.94L8.5 2.5l-.94 2.06-2.06.94zm10 10l.94 2.06.94-2.06 2.06-.94-2.06-.94-.94-2.06-.94 2.06-2.06.94z\"/><path d=\"M17.41 7.96l-1.37-1.37c-.4-.4-.92-.59-1.43-.59-.52 0-1.04.2-1.43.59L10.3 9.45l-7.72 7.72c-.78.78-.78 2.05 0 2.83L4 21.41c.39.39.9.59 1.41.59.51 0 1.02-.2 1.41-.59l7.78-7.78 2.81-2.81c.8-.78.8-2.07 0-2.86zM5.41 20L4 18.59l7.72-7.72 1.47 1.35L5.41 20z\"/>\n",
              "  </svg>\n",
              "      </button>\n",
              "      \n",
              "  <style>\n",
              "    .colab-df-container {\n",
              "      display:flex;\n",
              "      flex-wrap:wrap;\n",
              "      gap: 12px;\n",
              "    }\n",
              "\n",
              "    .colab-df-convert {\n",
              "      background-color: #E8F0FE;\n",
              "      border: none;\n",
              "      border-radius: 50%;\n",
              "      cursor: pointer;\n",
              "      display: none;\n",
              "      fill: #1967D2;\n",
              "      height: 32px;\n",
              "      padding: 0 0 0 0;\n",
              "      width: 32px;\n",
              "    }\n",
              "\n",
              "    .colab-df-convert:hover {\n",
              "      background-color: #E2EBFA;\n",
              "      box-shadow: 0px 1px 2px rgba(60, 64, 67, 0.3), 0px 1px 3px 1px rgba(60, 64, 67, 0.15);\n",
              "      fill: #174EA6;\n",
              "    }\n",
              "\n",
              "    [theme=dark] .colab-df-convert {\n",
              "      background-color: #3B4455;\n",
              "      fill: #D2E3FC;\n",
              "    }\n",
              "\n",
              "    [theme=dark] .colab-df-convert:hover {\n",
              "      background-color: #434B5C;\n",
              "      box-shadow: 0px 1px 3px 1px rgba(0, 0, 0, 0.15);\n",
              "      filter: drop-shadow(0px 1px 2px rgba(0, 0, 0, 0.3));\n",
              "      fill: #FFFFFF;\n",
              "    }\n",
              "  </style>\n",
              "\n",
              "      <script>\n",
              "        const buttonEl =\n",
              "          document.querySelector('#df-a1819bec-d04d-4ef6-8b0f-9fe1010282d0 button.colab-df-convert');\n",
              "        buttonEl.style.display =\n",
              "          google.colab.kernel.accessAllowed ? 'block' : 'none';\n",
              "\n",
              "        async function convertToInteractive(key) {\n",
              "          const element = document.querySelector('#df-a1819bec-d04d-4ef6-8b0f-9fe1010282d0');\n",
              "          const dataTable =\n",
              "            await google.colab.kernel.invokeFunction('convertToInteractive',\n",
              "                                                     [key], {});\n",
              "          if (!dataTable) return;\n",
              "\n",
              "          const docLinkHtml = 'Like what you see? Visit the ' +\n",
              "            '<a target=\"_blank\" href=https://colab.research.google.com/notebooks/data_table.ipynb>data table notebook</a>'\n",
              "            + ' to learn more about interactive tables.';\n",
              "          element.innerHTML = '';\n",
              "          dataTable['output_type'] = 'display_data';\n",
              "          await google.colab.output.renderOutput(dataTable, element);\n",
              "          const docLink = document.createElement('div');\n",
              "          docLink.innerHTML = docLinkHtml;\n",
              "          element.appendChild(docLink);\n",
              "        }\n",
              "      </script>\n",
              "    </div>\n",
              "  </div>\n",
              "  "
            ]
          },
          "metadata": {},
          "execution_count": 6
        }
      ]
    },
    {
      "cell_type": "markdown",
      "source": [
        "# 2. Задача №2"
      ],
      "metadata": {
        "id": "p957PjL_72aD"
      }
    },
    {
      "cell_type": "markdown",
      "source": [
        "## 2.0. Постановка задачи"
      ],
      "metadata": {
        "id": "lCxAavZj77CW"
      }
    },
    {
      "cell_type": "markdown",
      "source": [
        "Напишите запрос, который выведет ключ задачи, последний статус и его время создания для задач, которые открыты на данный момент времени.\n",
        "\n",
        "Условия:\n",
        "\n",
        "Открытыми считаются задачи, у которых последний статус в момент времени не “Closed” и не “Resolved”\n",
        "\n",
        "Задача может переходить в один и тот же статус несколько раз.\n",
        "\n",
        "Оформите запрос таким образом, чтобы, изменив дату, его можно было использовать для поиска открытых задач в любой момент времени в прошлом\n",
        "\n",
        "Переведите время в текстовое представление\n"
      ],
      "metadata": {
        "id": "kvRqJ10d8P17"
      }
    },
    {
      "cell_type": "markdown",
      "source": [
        "## 2.1. Решение"
      ],
      "metadata": {
        "id": "8DCuXj1X_0cF"
      }
    },
    {
      "cell_type": "code",
      "source": [
        "sql = \"\"\"\n",
        "select \n",
        "    issue_key,\n",
        "    status,\n",
        "    strftime('%Y-%m-%d %H:%M:%S', started_at / 1000, 'unixepoch') as start_time\n",
        "from\n",
        "    history\n",
        "where\n",
        "    (julianday('now') - 2440587.5)*86400.0*1000.0 between started_at and ended_at\n",
        "    and status <> \"Closed\"\n",
        "    and status <> \"Resolved\"\n",
        "\"\"\"\n",
        "select(sql)"
      ],
      "metadata": {
        "colab": {
          "base_uri": "https://localhost:8080/",
          "height": 49
        },
        "id": "ZKXjjW138-t0",
        "outputId": "403abff5-2f5c-4613-84e4-95e838640521"
      },
      "execution_count": 11,
      "outputs": [
        {
          "output_type": "execute_result",
          "data": {
            "text/plain": [
              "Empty DataFrame\n",
              "Columns: [issue_key, status, start_time]\n",
              "Index: []"
            ],
            "text/html": [
              "\n",
              "  <div id=\"df-55c47edd-386c-4f8f-9cc4-81dc63ffba45\">\n",
              "    <div class=\"colab-df-container\">\n",
              "      <div>\n",
              "<style scoped>\n",
              "    .dataframe tbody tr th:only-of-type {\n",
              "        vertical-align: middle;\n",
              "    }\n",
              "\n",
              "    .dataframe tbody tr th {\n",
              "        vertical-align: top;\n",
              "    }\n",
              "\n",
              "    .dataframe thead th {\n",
              "        text-align: right;\n",
              "    }\n",
              "</style>\n",
              "<table border=\"1\" class=\"dataframe\">\n",
              "  <thead>\n",
              "    <tr style=\"text-align: right;\">\n",
              "      <th></th>\n",
              "      <th>issue_key</th>\n",
              "      <th>status</th>\n",
              "      <th>start_time</th>\n",
              "    </tr>\n",
              "  </thead>\n",
              "  <tbody>\n",
              "  </tbody>\n",
              "</table>\n",
              "</div>\n",
              "      <button class=\"colab-df-convert\" onclick=\"convertToInteractive('df-55c47edd-386c-4f8f-9cc4-81dc63ffba45')\"\n",
              "              title=\"Convert this dataframe to an interactive table.\"\n",
              "              style=\"display:none;\">\n",
              "        \n",
              "  <svg xmlns=\"http://www.w3.org/2000/svg\" height=\"24px\"viewBox=\"0 0 24 24\"\n",
              "       width=\"24px\">\n",
              "    <path d=\"M0 0h24v24H0V0z\" fill=\"none\"/>\n",
              "    <path d=\"M18.56 5.44l.94 2.06.94-2.06 2.06-.94-2.06-.94-.94-2.06-.94 2.06-2.06.94zm-11 1L8.5 8.5l.94-2.06 2.06-.94-2.06-.94L8.5 2.5l-.94 2.06-2.06.94zm10 10l.94 2.06.94-2.06 2.06-.94-2.06-.94-.94-2.06-.94 2.06-2.06.94z\"/><path d=\"M17.41 7.96l-1.37-1.37c-.4-.4-.92-.59-1.43-.59-.52 0-1.04.2-1.43.59L10.3 9.45l-7.72 7.72c-.78.78-.78 2.05 0 2.83L4 21.41c.39.39.9.59 1.41.59.51 0 1.02-.2 1.41-.59l7.78-7.78 2.81-2.81c.8-.78.8-2.07 0-2.86zM5.41 20L4 18.59l7.72-7.72 1.47 1.35L5.41 20z\"/>\n",
              "  </svg>\n",
              "      </button>\n",
              "      \n",
              "  <style>\n",
              "    .colab-df-container {\n",
              "      display:flex;\n",
              "      flex-wrap:wrap;\n",
              "      gap: 12px;\n",
              "    }\n",
              "\n",
              "    .colab-df-convert {\n",
              "      background-color: #E8F0FE;\n",
              "      border: none;\n",
              "      border-radius: 50%;\n",
              "      cursor: pointer;\n",
              "      display: none;\n",
              "      fill: #1967D2;\n",
              "      height: 32px;\n",
              "      padding: 0 0 0 0;\n",
              "      width: 32px;\n",
              "    }\n",
              "\n",
              "    .colab-df-convert:hover {\n",
              "      background-color: #E2EBFA;\n",
              "      box-shadow: 0px 1px 2px rgba(60, 64, 67, 0.3), 0px 1px 3px 1px rgba(60, 64, 67, 0.15);\n",
              "      fill: #174EA6;\n",
              "    }\n",
              "\n",
              "    [theme=dark] .colab-df-convert {\n",
              "      background-color: #3B4455;\n",
              "      fill: #D2E3FC;\n",
              "    }\n",
              "\n",
              "    [theme=dark] .colab-df-convert:hover {\n",
              "      background-color: #434B5C;\n",
              "      box-shadow: 0px 1px 3px 1px rgba(0, 0, 0, 0.15);\n",
              "      filter: drop-shadow(0px 1px 2px rgba(0, 0, 0, 0.3));\n",
              "      fill: #FFFFFF;\n",
              "    }\n",
              "  </style>\n",
              "\n",
              "      <script>\n",
              "        const buttonEl =\n",
              "          document.querySelector('#df-55c47edd-386c-4f8f-9cc4-81dc63ffba45 button.colab-df-convert');\n",
              "        buttonEl.style.display =\n",
              "          google.colab.kernel.accessAllowed ? 'block' : 'none';\n",
              "\n",
              "        async function convertToInteractive(key) {\n",
              "          const element = document.querySelector('#df-55c47edd-386c-4f8f-9cc4-81dc63ffba45');\n",
              "          const dataTable =\n",
              "            await google.colab.kernel.invokeFunction('convertToInteractive',\n",
              "                                                     [key], {});\n",
              "          if (!dataTable) return;\n",
              "\n",
              "          const docLinkHtml = 'Like what you see? Visit the ' +\n",
              "            '<a target=\"_blank\" href=https://colab.research.google.com/notebooks/data_table.ipynb>data table notebook</a>'\n",
              "            + ' to learn more about interactive tables.';\n",
              "          element.innerHTML = '';\n",
              "          dataTable['output_type'] = 'display_data';\n",
              "          await google.colab.output.renderOutput(dataTable, element);\n",
              "          const docLink = document.createElement('div');\n",
              "          docLink.innerHTML = docLinkHtml;\n",
              "          element.appendChild(docLink);\n",
              "        }\n",
              "      </script>\n",
              "    </div>\n",
              "  </div>\n",
              "  "
            ]
          },
          "metadata": {},
          "execution_count": 11
        }
      ]
    },
    {
      "cell_type": "markdown",
      "source": [
        "Для поиска открытых задач в прошлом нужно заменить 'now' на нужную дату, как в примере ниже:"
      ],
      "metadata": {
        "id": "9K9Fs-GkgYxZ"
      }
    },
    {
      "cell_type": "code",
      "source": [
        "sql = \"\"\"\n",
        "select \n",
        "    issue_key,\n",
        "    status,\n",
        "    strftime('%Y-%m-%d %H:%M:%S', started_at / 1000, 'unixepoch') as start_time\n",
        "from\n",
        "    history\n",
        "where\n",
        "    (julianday('2022-11-26') - 2440587.5)*86400.0*1000.0 between started_at and ended_at\n",
        "    and status <> \"Closed\"\n",
        "    and status <> \"Resolved\"\n",
        "\"\"\"\n",
        "select(sql)"
      ],
      "metadata": {
        "colab": {
          "base_uri": "https://localhost:8080/",
          "height": 1000
        },
        "outputId": "cb5226b9-e000-4cfe-f426-5c5c4a12290d",
        "id": "EtrCK3a8c6Ni"
      },
      "execution_count": 10,
      "outputs": [
        {
          "output_type": "execute_result",
          "data": {
            "text/plain": [
              "   issue_key                   status           start_time\n",
              "0    C-40460              In Progress  2022-11-25 10:04:00\n",
              "1    C-38984                 Reopened  2022-11-15 10:15:23\n",
              "2    C-37862                In Review  2022-11-14 08:59:04\n",
              "3     B-4645                 Reopened  2022-11-25 09:23:14\n",
              "4    C-40059              In Progress  2022-11-23 09:16:30\n",
              "5    C-38787                   In Owl  2022-11-25 07:41:16\n",
              "6    C-36721                   In Owl  2022-11-18 11:45:00\n",
              "7    C-35057                 Reopened  2022-11-14 11:49:52\n",
              "8    C-31154                   In Owl  2022-09-14 17:02:17\n",
              "9    A-52884              In Progress  2022-11-25 10:52:57\n",
              "10   A-52764              In Progress  2022-11-24 09:14:26\n",
              "11   A-52737              In Progress  2022-11-24 12:33:35\n",
              "12   A-52727                     Open  2022-11-25 09:23:44\n",
              "13   A-52631  Waiting for integration  2022-11-25 07:41:15\n",
              "14   A-52568              In Progress  2022-11-25 10:58:35\n",
              "15   A-52564  Waiting for integration  2022-11-23 13:37:48\n",
              "16   A-51617              In Progress  2022-11-23 14:16:21\n",
              "17   A-51084              In Progress  2022-11-24 18:21:51\n",
              "18   A-51082  Waiting for integration  2022-11-18 11:45:00\n",
              "19   A-49884                     Open  2022-11-23 09:36:35\n",
              "20   A-49415                In Review  2022-11-10 09:43:20\n",
              "21   A-49140                     Open  2022-09-07 10:33:35\n",
              "22   A-47686                     Open  2022-08-16 14:54:47\n",
              "23   A-45450              In Progress  2022-11-24 16:38:38\n",
              "24   A-44901                In Review  2022-09-29 09:00:10\n",
              "25   A-44107                     Open  2022-06-08 13:26:25\n",
              "26   A-37761                     Open  2022-11-10 08:11:55\n",
              "27    D-6832              In Progress  2022-11-08 10:30:54\n",
              "28    D-6828                In Review  2022-11-21 16:16:46\n",
              "29    D-6809                In Review  2022-11-18 15:46:13\n",
              "30    D-5975               In Testing  2022-11-01 14:39:04\n",
              "31    D-4951              In Progress  2022-11-24 12:34:19\n",
              "32   E-66462                     Open  2022-11-24 15:03:07\n",
              "33   E-51263                     Open  2022-06-21 16:18:56\n",
              "34   E-44266               In Testing  2022-11-18 08:42:28"
            ],
            "text/html": [
              "\n",
              "  <div id=\"df-b1e92092-30f3-412e-94da-baf2b835f0db\">\n",
              "    <div class=\"colab-df-container\">\n",
              "      <div>\n",
              "<style scoped>\n",
              "    .dataframe tbody tr th:only-of-type {\n",
              "        vertical-align: middle;\n",
              "    }\n",
              "\n",
              "    .dataframe tbody tr th {\n",
              "        vertical-align: top;\n",
              "    }\n",
              "\n",
              "    .dataframe thead th {\n",
              "        text-align: right;\n",
              "    }\n",
              "</style>\n",
              "<table border=\"1\" class=\"dataframe\">\n",
              "  <thead>\n",
              "    <tr style=\"text-align: right;\">\n",
              "      <th></th>\n",
              "      <th>issue_key</th>\n",
              "      <th>status</th>\n",
              "      <th>start_time</th>\n",
              "    </tr>\n",
              "  </thead>\n",
              "  <tbody>\n",
              "    <tr>\n",
              "      <th>0</th>\n",
              "      <td>C-40460</td>\n",
              "      <td>In Progress</td>\n",
              "      <td>2022-11-25 10:04:00</td>\n",
              "    </tr>\n",
              "    <tr>\n",
              "      <th>1</th>\n",
              "      <td>C-38984</td>\n",
              "      <td>Reopened</td>\n",
              "      <td>2022-11-15 10:15:23</td>\n",
              "    </tr>\n",
              "    <tr>\n",
              "      <th>2</th>\n",
              "      <td>C-37862</td>\n",
              "      <td>In Review</td>\n",
              "      <td>2022-11-14 08:59:04</td>\n",
              "    </tr>\n",
              "    <tr>\n",
              "      <th>3</th>\n",
              "      <td>B-4645</td>\n",
              "      <td>Reopened</td>\n",
              "      <td>2022-11-25 09:23:14</td>\n",
              "    </tr>\n",
              "    <tr>\n",
              "      <th>4</th>\n",
              "      <td>C-40059</td>\n",
              "      <td>In Progress</td>\n",
              "      <td>2022-11-23 09:16:30</td>\n",
              "    </tr>\n",
              "    <tr>\n",
              "      <th>5</th>\n",
              "      <td>C-38787</td>\n",
              "      <td>In Owl</td>\n",
              "      <td>2022-11-25 07:41:16</td>\n",
              "    </tr>\n",
              "    <tr>\n",
              "      <th>6</th>\n",
              "      <td>C-36721</td>\n",
              "      <td>In Owl</td>\n",
              "      <td>2022-11-18 11:45:00</td>\n",
              "    </tr>\n",
              "    <tr>\n",
              "      <th>7</th>\n",
              "      <td>C-35057</td>\n",
              "      <td>Reopened</td>\n",
              "      <td>2022-11-14 11:49:52</td>\n",
              "    </tr>\n",
              "    <tr>\n",
              "      <th>8</th>\n",
              "      <td>C-31154</td>\n",
              "      <td>In Owl</td>\n",
              "      <td>2022-09-14 17:02:17</td>\n",
              "    </tr>\n",
              "    <tr>\n",
              "      <th>9</th>\n",
              "      <td>A-52884</td>\n",
              "      <td>In Progress</td>\n",
              "      <td>2022-11-25 10:52:57</td>\n",
              "    </tr>\n",
              "    <tr>\n",
              "      <th>10</th>\n",
              "      <td>A-52764</td>\n",
              "      <td>In Progress</td>\n",
              "      <td>2022-11-24 09:14:26</td>\n",
              "    </tr>\n",
              "    <tr>\n",
              "      <th>11</th>\n",
              "      <td>A-52737</td>\n",
              "      <td>In Progress</td>\n",
              "      <td>2022-11-24 12:33:35</td>\n",
              "    </tr>\n",
              "    <tr>\n",
              "      <th>12</th>\n",
              "      <td>A-52727</td>\n",
              "      <td>Open</td>\n",
              "      <td>2022-11-25 09:23:44</td>\n",
              "    </tr>\n",
              "    <tr>\n",
              "      <th>13</th>\n",
              "      <td>A-52631</td>\n",
              "      <td>Waiting for integration</td>\n",
              "      <td>2022-11-25 07:41:15</td>\n",
              "    </tr>\n",
              "    <tr>\n",
              "      <th>14</th>\n",
              "      <td>A-52568</td>\n",
              "      <td>In Progress</td>\n",
              "      <td>2022-11-25 10:58:35</td>\n",
              "    </tr>\n",
              "    <tr>\n",
              "      <th>15</th>\n",
              "      <td>A-52564</td>\n",
              "      <td>Waiting for integration</td>\n",
              "      <td>2022-11-23 13:37:48</td>\n",
              "    </tr>\n",
              "    <tr>\n",
              "      <th>16</th>\n",
              "      <td>A-51617</td>\n",
              "      <td>In Progress</td>\n",
              "      <td>2022-11-23 14:16:21</td>\n",
              "    </tr>\n",
              "    <tr>\n",
              "      <th>17</th>\n",
              "      <td>A-51084</td>\n",
              "      <td>In Progress</td>\n",
              "      <td>2022-11-24 18:21:51</td>\n",
              "    </tr>\n",
              "    <tr>\n",
              "      <th>18</th>\n",
              "      <td>A-51082</td>\n",
              "      <td>Waiting for integration</td>\n",
              "      <td>2022-11-18 11:45:00</td>\n",
              "    </tr>\n",
              "    <tr>\n",
              "      <th>19</th>\n",
              "      <td>A-49884</td>\n",
              "      <td>Open</td>\n",
              "      <td>2022-11-23 09:36:35</td>\n",
              "    </tr>\n",
              "    <tr>\n",
              "      <th>20</th>\n",
              "      <td>A-49415</td>\n",
              "      <td>In Review</td>\n",
              "      <td>2022-11-10 09:43:20</td>\n",
              "    </tr>\n",
              "    <tr>\n",
              "      <th>21</th>\n",
              "      <td>A-49140</td>\n",
              "      <td>Open</td>\n",
              "      <td>2022-09-07 10:33:35</td>\n",
              "    </tr>\n",
              "    <tr>\n",
              "      <th>22</th>\n",
              "      <td>A-47686</td>\n",
              "      <td>Open</td>\n",
              "      <td>2022-08-16 14:54:47</td>\n",
              "    </tr>\n",
              "    <tr>\n",
              "      <th>23</th>\n",
              "      <td>A-45450</td>\n",
              "      <td>In Progress</td>\n",
              "      <td>2022-11-24 16:38:38</td>\n",
              "    </tr>\n",
              "    <tr>\n",
              "      <th>24</th>\n",
              "      <td>A-44901</td>\n",
              "      <td>In Review</td>\n",
              "      <td>2022-09-29 09:00:10</td>\n",
              "    </tr>\n",
              "    <tr>\n",
              "      <th>25</th>\n",
              "      <td>A-44107</td>\n",
              "      <td>Open</td>\n",
              "      <td>2022-06-08 13:26:25</td>\n",
              "    </tr>\n",
              "    <tr>\n",
              "      <th>26</th>\n",
              "      <td>A-37761</td>\n",
              "      <td>Open</td>\n",
              "      <td>2022-11-10 08:11:55</td>\n",
              "    </tr>\n",
              "    <tr>\n",
              "      <th>27</th>\n",
              "      <td>D-6832</td>\n",
              "      <td>In Progress</td>\n",
              "      <td>2022-11-08 10:30:54</td>\n",
              "    </tr>\n",
              "    <tr>\n",
              "      <th>28</th>\n",
              "      <td>D-6828</td>\n",
              "      <td>In Review</td>\n",
              "      <td>2022-11-21 16:16:46</td>\n",
              "    </tr>\n",
              "    <tr>\n",
              "      <th>29</th>\n",
              "      <td>D-6809</td>\n",
              "      <td>In Review</td>\n",
              "      <td>2022-11-18 15:46:13</td>\n",
              "    </tr>\n",
              "    <tr>\n",
              "      <th>30</th>\n",
              "      <td>D-5975</td>\n",
              "      <td>In Testing</td>\n",
              "      <td>2022-11-01 14:39:04</td>\n",
              "    </tr>\n",
              "    <tr>\n",
              "      <th>31</th>\n",
              "      <td>D-4951</td>\n",
              "      <td>In Progress</td>\n",
              "      <td>2022-11-24 12:34:19</td>\n",
              "    </tr>\n",
              "    <tr>\n",
              "      <th>32</th>\n",
              "      <td>E-66462</td>\n",
              "      <td>Open</td>\n",
              "      <td>2022-11-24 15:03:07</td>\n",
              "    </tr>\n",
              "    <tr>\n",
              "      <th>33</th>\n",
              "      <td>E-51263</td>\n",
              "      <td>Open</td>\n",
              "      <td>2022-06-21 16:18:56</td>\n",
              "    </tr>\n",
              "    <tr>\n",
              "      <th>34</th>\n",
              "      <td>E-44266</td>\n",
              "      <td>In Testing</td>\n",
              "      <td>2022-11-18 08:42:28</td>\n",
              "    </tr>\n",
              "  </tbody>\n",
              "</table>\n",
              "</div>\n",
              "      <button class=\"colab-df-convert\" onclick=\"convertToInteractive('df-b1e92092-30f3-412e-94da-baf2b835f0db')\"\n",
              "              title=\"Convert this dataframe to an interactive table.\"\n",
              "              style=\"display:none;\">\n",
              "        \n",
              "  <svg xmlns=\"http://www.w3.org/2000/svg\" height=\"24px\"viewBox=\"0 0 24 24\"\n",
              "       width=\"24px\">\n",
              "    <path d=\"M0 0h24v24H0V0z\" fill=\"none\"/>\n",
              "    <path d=\"M18.56 5.44l.94 2.06.94-2.06 2.06-.94-2.06-.94-.94-2.06-.94 2.06-2.06.94zm-11 1L8.5 8.5l.94-2.06 2.06-.94-2.06-.94L8.5 2.5l-.94 2.06-2.06.94zm10 10l.94 2.06.94-2.06 2.06-.94-2.06-.94-.94-2.06-.94 2.06-2.06.94z\"/><path d=\"M17.41 7.96l-1.37-1.37c-.4-.4-.92-.59-1.43-.59-.52 0-1.04.2-1.43.59L10.3 9.45l-7.72 7.72c-.78.78-.78 2.05 0 2.83L4 21.41c.39.39.9.59 1.41.59.51 0 1.02-.2 1.41-.59l7.78-7.78 2.81-2.81c.8-.78.8-2.07 0-2.86zM5.41 20L4 18.59l7.72-7.72 1.47 1.35L5.41 20z\"/>\n",
              "  </svg>\n",
              "      </button>\n",
              "      \n",
              "  <style>\n",
              "    .colab-df-container {\n",
              "      display:flex;\n",
              "      flex-wrap:wrap;\n",
              "      gap: 12px;\n",
              "    }\n",
              "\n",
              "    .colab-df-convert {\n",
              "      background-color: #E8F0FE;\n",
              "      border: none;\n",
              "      border-radius: 50%;\n",
              "      cursor: pointer;\n",
              "      display: none;\n",
              "      fill: #1967D2;\n",
              "      height: 32px;\n",
              "      padding: 0 0 0 0;\n",
              "      width: 32px;\n",
              "    }\n",
              "\n",
              "    .colab-df-convert:hover {\n",
              "      background-color: #E2EBFA;\n",
              "      box-shadow: 0px 1px 2px rgba(60, 64, 67, 0.3), 0px 1px 3px 1px rgba(60, 64, 67, 0.15);\n",
              "      fill: #174EA6;\n",
              "    }\n",
              "\n",
              "    [theme=dark] .colab-df-convert {\n",
              "      background-color: #3B4455;\n",
              "      fill: #D2E3FC;\n",
              "    }\n",
              "\n",
              "    [theme=dark] .colab-df-convert:hover {\n",
              "      background-color: #434B5C;\n",
              "      box-shadow: 0px 1px 3px 1px rgba(0, 0, 0, 0.15);\n",
              "      filter: drop-shadow(0px 1px 2px rgba(0, 0, 0, 0.3));\n",
              "      fill: #FFFFFF;\n",
              "    }\n",
              "  </style>\n",
              "\n",
              "      <script>\n",
              "        const buttonEl =\n",
              "          document.querySelector('#df-b1e92092-30f3-412e-94da-baf2b835f0db button.colab-df-convert');\n",
              "        buttonEl.style.display =\n",
              "          google.colab.kernel.accessAllowed ? 'block' : 'none';\n",
              "\n",
              "        async function convertToInteractive(key) {\n",
              "          const element = document.querySelector('#df-b1e92092-30f3-412e-94da-baf2b835f0db');\n",
              "          const dataTable =\n",
              "            await google.colab.kernel.invokeFunction('convertToInteractive',\n",
              "                                                     [key], {});\n",
              "          if (!dataTable) return;\n",
              "\n",
              "          const docLinkHtml = 'Like what you see? Visit the ' +\n",
              "            '<a target=\"_blank\" href=https://colab.research.google.com/notebooks/data_table.ipynb>data table notebook</a>'\n",
              "            + ' to learn more about interactive tables.';\n",
              "          element.innerHTML = '';\n",
              "          dataTable['output_type'] = 'display_data';\n",
              "          await google.colab.output.renderOutput(dataTable, element);\n",
              "          const docLink = document.createElement('div');\n",
              "          docLink.innerHTML = docLinkHtml;\n",
              "          element.appendChild(docLink);\n",
              "        }\n",
              "      </script>\n",
              "    </div>\n",
              "  </div>\n",
              "  "
            ]
          },
          "metadata": {},
          "execution_count": 10
        }
      ]
    },
    {
      "cell_type": "markdown",
      "source": [
        "P.S. Для удобства в запрос можно было бы добавить переменную для даты, но sqlite не поддерживает такой синтаксис, альтернатива в виде временной таблицы выглядят громоздкой для этой задачи"
      ],
      "metadata": {
        "id": "JxWfMk7R-YYy"
      }
    }
  ]
}